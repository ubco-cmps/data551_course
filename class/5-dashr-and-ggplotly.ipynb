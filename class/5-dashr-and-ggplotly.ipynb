{
 "cells": [
  {
   "cell_type": "markdown",
   "metadata": {},
   "source": [
    "# 551 Lec 5 - Dash-R and ggplotly"
   ]
  },
  {
   "cell_type": "markdown",
   "metadata": {},
   "source": [
    "## Lecture learning goals\n",
    "\n",
    "By the end of the lecture you will be able to:\n",
    "\n",
    "1. Run a Dash-R app on a local server\n",
    "2. Create Dash html and widgets (dropdowns, sliders, etc) in R\n",
    "3. Implement callbacks with multiple input and outputs in R\n",
    "4. Use dash bootstrap components to lay out dashboard components on grid in R\n",
    "5. Convert ggplot objects into interactive plotly javascript specs\n",
    "6. Link plotly plots to callbacks and capture emitted server side signals\n",
    "\n",
    "-------------"
   ]
  },
  {
   "cell_type": "markdown",
   "metadata": {
    "Collapsed": "false"
   },
   "source": [
    "Install dash via https://dashr.plotly.com/installation\n",
    "and the latest version of dash bootstrap via https://dash-bootstrap-components.opensource.faculty.ai/docs/dashr/.\n",
    "\n",
    "In short:\n",
    "\n",
    "```r\n",
    "# Installs dashHtmlComponents, dashCoreComponents, and dashTable\n",
    "# and will update the component libraries when a new package is released\n",
    "install.packages('dash')\n",
    "\n",
    "# Installs dash bootstrap\n",
    "library(devtools)\n",
    "install_github('facultyai/dash-bootstrap-components@r-release')\n",
    "```\n",
    "\n",
    "The dashr docs are similar to the Python ones and can be found at https://dashr.plotly.com.\n",
    "For dash bootstrap, there is currently no separate documentation,\n",
    "the R components work the same as the Python ones with the same arguments."
   ]
  },
  {
   "attachments": {},
   "cell_type": "markdown",
   "metadata": {
    "Collapsed": "false"
   },
   "source": [
    "As a refresher,\n",
    "our skeleton looked like this for Python:\n",
    "\n",
    "```python\n",
    "import dash\n",
    "import dash_html_components as html\n",
    "\n",
    "\n",
    "app = dash.Dash()\n",
    "app.layout = html.Div('I am alive!!')\n",
    "app.run_server()\n",
    "```\n",
    "\n",
    "The equivalent in R is this:\n",
    "\n",
    "```r\n",
    "library(dash)\n",
    "library(dashHtmlComponents)\n",
    "\n",
    "app = Dash$new()\n",
    "\n",
    "app$layout(htmlDiv('I am alive!!'))\n",
    "\n",
    "app$run_server(debug = T)\n",
    "```\n",
    "\n",
    "![](images/5/5.01.png)\n",
    "\n",
    "Note that `debug` does not work as well in R as in Dash for Python.\n",
    "Sometimes you still need to refresh the page to see the update,\n",
    "or even restart the server.\n",
    "`debug` also hides some error messages, \n",
    "which is not very helpful,\n",
    "and you might need to run without it to discover what is actually going wrong with your app."
   ]
  },
  {
   "attachments": {},
   "cell_type": "markdown",
   "metadata": {
    "Collapsed": "false"
   },
   "source": [
    "To run this app,\n",
    "we either click `source` in RStudio\n",
    "or run `Rscript app.R` from the command line.\n",
    "\n",
    "You can see that it is very similar between the two languages.\n",
    "The most common changes in:\n",
    "\n",
    "- Instead of `.`, R sometimes uses `$` and sometimes just omits the `.`.\n",
    "- The initialization of the `Dash` instance looks slightly different.\n",
    "- app$layout is a function\n",
    "- Instead of `[]`, we use `list()`\n",
    "- Instead of dictionaries, we use named lists.\n",
    "\n",
    "A few examples:\n",
    "\n",
    "| Python              | R                   |\n",
    "|---------------------|---------------------|\n",
    "| `app = dash.Dash()` | `app <- Dash$new()` |\n",
    "| `app.layout = ...`  | `app$layout(...)`   |\n",
    "| `app.run_server()`  | `app$run_server()`  |\n",
    "| `html.Div`          | `htmlDiv`           |\n",
    "| `html.H1`           | `htmlH1`            |\n",
    "| `dcc.Dropdown`      | `dccDropdown`       |\n",
    "| `python app.py`     | `Rscript app.R`     |\n",
    "\n",
    "Let's see a slightly more involved example including a stylesheet,\n",
    "headings, and style configuration.\n",
    "\n",
    "```r\n",
    "library(dash)\n",
    "library(dashHtmlComponents)\n",
    "\n",
    "app = Dash$new(external_stylesheets = \"https://codepen.io/chriddyp/pen/bWLwgP.css\")\n",
    "\n",
    "app$layout(\n",
    "    htmlDiv(\n",
    "        htmlH1('I am alive!!',\n",
    "               style=list('color' = 'cyan', 'background-color' = '#000000')\n",
    "               )\n",
    "        )\n",
    "    )\n",
    "\n",
    "app$run_server(debug = T)\n",
    "```\n",
    "\n",
    "![](images/5/5.02.png)"
   ]
  },
  {
   "cell_type": "code",
   "execution_count": 1,
   "metadata": {},
   "outputs": [
    {
     "ename": "ERROR",
     "evalue": "Error in enquo(y): could not find function \"enquo\"\n",
     "output_type": "error",
     "traceback": [
      "Error in enquo(y): could not find function \"enquo\"\nTraceback:\n",
      "1. scatter_by(mtcars, \"disp\", drat)"
     ]
    }
   ],
   "source": [
    "scatter_by <- function(data, x, y) {\n",
    "  x <- as.name(x)\n",
    "  y <- enquo(y)\n",
    "\n",
    "  ggplot(data) + geom_point(aes(!!x, !!y))\n",
    "}\n",
    "scatter_by(mtcars, 'disp', drat)"
   ]
  },
  {
   "attachments": {
    "0900f104-1258-411b-8d77-57ec10a92d9b.png": {
     "image/png": "[encoded data removed]"
    }
   },
   "cell_type": "markdown",
   "metadata": {},
   "source": [
    "## Widgets\n",
    "\n",
    "Lets see what an app looks like with widgets\n",
    "\n",
    "```r\n",
    "library(dash)\n",
    "library(dashCoreComponents)\n",
    "library(dashHtmlComponents)\n",
    "\n",
    "app <- Dash$new(external_stylesheets = \"https://codepen.io/chriddyp/pen/bWLwgP.css\")\n",
    "\n",
    "app$layout(\n",
    "    htmlDiv(\n",
    "        list(\n",
    "            dccDropdown(\n",
    "                options = list(list(label = \"New York City\", value = \"NYC\"),\n",
    "                               list(label = \"Montreal\", value = \"MTL\"),\n",
    "                               list(label = \"San Francisco\", value = \"SF\")),\n",
    "                value = 'MTL'\n",
    "            )\n",
    "        )\n",
    "    )\n",
    ")\n",
    "\n",
    "app$run_server(debug = T)\n",
    "```\n",
    "\n",
    "![image.png](attachment:0900f104-1258-411b-8d77-57ec10a92d9b.png)\n",
    "![](images/5/5.03.png)\n",
    "\n",
    "In Python we used a list of dictionaries for the `options`,\n",
    "the equivalent in R is a list of named lists.\n",
    "For multiselect we would change `value = 'MTL'` to `value = list('MTL', 'SF'), multi=TRUE`.\n",
    "You could also use a vector instead of a list for the values here\n",
    "(and some other places where dash just needs any array),\n",
    "but I will stick to lists as in the docs.\n",
    "Watch out for trailing commas after parentheses (`),`).\n",
    "This is fine in Python list,\n",
    "but R will raise the error `argument X is empty from list()`\n",
    "\n",
    "To add a html label,\n",
    "there is a small difference,\n",
    "in that it is just stacked on top of the dropdown\n",
    "(instead of passing a list with the string and dropdown to the label function):\n",
    "\n",
    "```r\n",
    "list(\n",
    "    htmlLabel('Dropdown'),\n",
    "    dccDropdown(...)\n",
    "    )\n",
    "```\n",
    "\n",
    "There is a small gotcha with sliders,\n",
    "in that the suggested way to add marks in the docs,\n",
    "does not work when running the server in debug mode.\n",
    "Instead you can use a named list like this:\n",
    "\n",
    "```r\n",
    "library(dash)\n",
    "library(dashCoreComponents)\n",
    "library(dashHtmlComponents)\n",
    "\n",
    "app <- Dash$new(external_stylesheets = \"https://codepen.io/chriddyp/pen/bWLwgP.css\")\n",
    "\n",
    "app$layout(\n",
    "    htmlDiv(\n",
    "        list(\n",
    "            htmlLabel('Slider'),\n",
    "            dccSlider(\n",
    "                min = 1,\n",
    "                max = 10,\n",
    "                marks = list(\n",
    "                    \"1\" = \"1°C\",\n",
    "                    \"5\" = \"5°C\",\n",
    "                    \"10\" = \"10°C\"\n",
    "                ),\n",
    "                value = 5\n",
    "            )\n",
    "            \n",
    "        )\n",
    "    )\n",
    ")\n",
    "\n",
    "app$run_server(debug = T)\n",
    "```\n",
    "\n",
    "![](images/5/5.04.png)\n",
    "\n",
    "<!--\n",
    "% TODO\n",
    "% If we automatically wanted to generate\n",
    "-->"
   ]
  },
  {
   "attachments": {},
   "cell_type": "markdown",
   "metadata": {},
   "source": [
    "## Callbacks\n",
    "\n",
    "R does not have function decorators,\n",
    "which is what we used to link widgets to functions \n",
    "via callback in Python.\n",
    "Remember that a decorator in Python is only a syntax shortcut\n",
    "to wrapping a function in another function,\n",
    "which is what we will do in R\n",
    "passing both the outputs, inputs, and callback function\n",
    "as parameters.\n",
    "\n",
    "```r\n",
    "library(dash)\n",
    "library(dashCoreComponents)\n",
    "library(dashHtmlComponents)\n",
    "\n",
    "app <- Dash$new(external_stylesheets = \"https://codepen.io/chriddyp/pen/bWLwgP.css\")\n",
    "\n",
    "app$layout(\n",
    "    htmlDiv(\n",
    "        list(\n",
    "            dccInput(id='widget-1'),\n",
    "            htmlDiv(id='widget-2')\n",
    "        )\n",
    "    )\n",
    ")\n",
    "\n",
    "app$callback(\n",
    "    list(output('widget-2', 'children')),\n",
    "    list(input('widget-1', 'value')),\n",
    "    function(input_value) {\n",
    "        return(list(input_value))  # Would also work without `return()`\n",
    "    })\n",
    "\n",
    "app$run_server(debug = T)\n",
    "```\n",
    "\n",
    "![](images/5/5.05.png)\n",
    "\n",
    "Note that you don't need explicit return statements in R,\n",
    "as the last value of the functions is always returned,\n",
    "I just added it here for clarity.\n",
    "When there is a single output,\n",
    "we could skip the list both in the callback and the function return statement.\n",
    "But for single inputs,\n",
    "we still need a list:\n",
    "\n",
    "```r\n",
    "app$callback(\n",
    "    output('widget-2', 'children'),\n",
    "    list(input('widget-1', 'value')),\n",
    "    function(input_value) {\n",
    "        return(input_value)\n",
    "    })\n",
    "```\n",
    "\n",
    "### Multiple input/outputs\n",
    "\n",
    "For multiple input and outputs,\n",
    "we need to pass a list of `input()`/`output()` functions.\n",
    "\n",
    "\n",
    "```r\n",
    "library(dash)\n",
    "library(dashCoreComponents)\n",
    "library(dashHtmlComponents)\n",
    "\n",
    "app <- Dash$new(external_stylesheets = \"https://codepen.io/chriddyp/pen/bWLwgP.css\")\n",
    "\n",
    "app$layout(\n",
    "    htmlDiv(\n",
    "        list(\n",
    "            dccInput(id='widget-1'),\n",
    "            dccInput(id='widget-4'),\n",
    "            htmlDiv(id='widget-2'),\n",
    "            htmlDiv(id='widget-3')\n",
    "        )\n",
    "    )\n",
    ")\n",
    "\n",
    "app$callback(\n",
    "    list(output('widget-2', 'children'),\n",
    "         output('widget-3', 'children')),\n",
    "    list(input('widget-1', 'value'),\n",
    "         input('widget-4', 'value')),\n",
    "    function(input_value, input_value2) {\n",
    "        return(list(input_value, input_value2))\n",
    "    })\n",
    "\n",
    "app$run_server(debug = T)\n",
    "```\n",
    "\n",
    "![](images/5/5.06.png)"
   ]
  },
  {
   "cell_type": "markdown",
   "metadata": {},
   "source": [
    "## Dashbootstrap\n",
    "\n",
    "For dashbootstrap,\n",
    "the R components work the same as the Python ones with the same arguments.\n",
    "You \n",
    "\n",
    "```text\n",
    "library(dash)\n",
    "library(dashCoreComponents)\n",
    "library(dashHtmlComponents)\n",
    "library(dashBootstrapComponents)\n",
    "\n",
    "app <- Dash$new(external_stylesheets = dbcThemes$BOOTSTRAP)\n",
    "\n",
    "app$layout(\n",
    "    dbcContainer(\n",
    "        dbcRow(\n",
    "            list(\n",
    "                dbcCol(\n",
    "                    list(\n",
    "                        htmlLabel('Left'),\n",
    "                        dccDropdown(\n",
    "                            options = list(list(label = \"New York City\", value = \"NYC\"),\n",
    "                                           list(label = \"San Francisco\", value = \"SF\")),\n",
    "                            value = 'NYC'\n",
    "                        )\n",
    "                    )\n",
    "                ),\n",
    "                dbcCol(\n",
    "                    list(\n",
    "                        htmlLabel('Right'),\n",
    "                        dccDropdown(\n",
    "                            options = list(list(label = \"New York City\", value = \"NYC\"),\n",
    "                                           list(label = \"San Francisco\", value = \"SF\")),\n",
    "                            value = 'SF'\n",
    "                        )\n",
    "                    )\n",
    "                )\n",
    "            )\n",
    "        ), style = list('max-width' = '85%')  # Change left/right whitespace for the container\n",
    "    )\n",
    ")\n",
    "\n",
    "app$run_server(debug = T)\n",
    "```"
   ]
  },
  {
   "cell_type": "markdown",
   "metadata": {},
   "source": [
    "## Creating interactive ggplots with the help of plotly"
   ]
  },
  {
   "cell_type": "markdown",
   "metadata": {
    "Collapsed": "false"
   },
   "source": [
    "To leverage the power of `ggplot` for interactive graphs and make it work well with `dash`,\n",
    "the creators of `plotly` wrote a wrapper function called `ggplotly()`\n",
    "that looks at the structure of a `ggplot` figure\n",
    "and converts it into a plotly javascript figure.\n",
    "This s quite convenient,\n",
    "as we don't need to learn a separate package for interactivity,\n",
    "we just need to remember this function\n",
    "and later also learn some special parts of it for linking plots together etc.\n",
    "\n",
    "Let's see what a simple example might look like with a built-in data set of mammalian sleeping patterns."
   ]
  },
  {
   "cell_type": "code",
   "execution_count": null,
   "metadata": {},
   "outputs": [],
   "source": [
    "library(ggplot2)\n",
    "\n",
    "head(msleep)"
   ]
  },
  {
   "cell_type": "markdown",
   "metadata": {},
   "source": [
    "Do heavy animals sleep more?"
   ]
  },
  {
   "cell_type": "code",
   "execution_count": null,
   "metadata": {
    "Collapsed": "false"
   },
   "outputs": [],
   "source": [
    "p <- ggplot(msleep) +\n",
    "    aes(x = bodywt,\n",
    "        y = sleep_total) +\n",
    "  geom_point()\n",
    "p "
   ]
  },
  {
   "cell_type": "markdown",
   "metadata": {},
   "source": [
    "Lets log the x-axis so it is easier to see"
   ]
  },
  {
   "cell_type": "code",
   "execution_count": null,
   "metadata": {
    "Collapsed": "false"
   },
   "outputs": [],
   "source": [
    "p <- ggplot(msleep) +\n",
    "    aes(x = bodywt,\n",
    "        y = sleep_total) +\n",
    "  geom_point() +\n",
    "  scale_x_log10()\n",
    "p "
   ]
  },
  {
   "cell_type": "markdown",
   "metadata": {},
   "source": [
    "How do we make this ggplot interactive?\n",
    "First `install.packages(\"plotly\")`.\n",
    "This provides the function `ggplotly` which can wrap a ggplot object\n",
    "([all plotly compatible geoms can be found here](https://plotly.com/ggplot2/))."
   ]
  },
  {
   "cell_type": "code",
   "execution_count": null,
   "metadata": {},
   "outputs": [],
   "source": [
    "library(plotly)\n",
    "\n",
    "ggplotly(p)"
   ]
  },
  {
   "cell_type": "markdown",
   "metadata": {},
   "source": [
    "Similar to Altair,\n",
    "you have some interactive controls in the modebar to the top left,\n",
    "save as png, zoom, pan, etc (double click to reset a view, or click \"home\").\n",
    "The default is to span the entire width,\n",
    "which is often what we want in a dashboard where the columns already control the width,\n",
    "but can be a bit annoying in the notebook so lets make it more narrow.\n",
    "You can [read here how to configure the modebar](https://plotly-r.com/control-modebar.html)."
   ]
  },
  {
   "cell_type": "code",
   "execution_count": null,
   "metadata": {},
   "outputs": [],
   "source": [
    "# Might not work in Jupyter\n",
    "ggplotly(p, width = 100)"
   ]
  },
  {
   "cell_type": "markdown",
   "metadata": {},
   "source": [
    "Let's color by animal diet to see it that can further explain this relationship."
   ]
  },
  {
   "cell_type": "code",
   "execution_count": null,
   "metadata": {},
   "outputs": [],
   "source": [
    "p <- p + aes(color = vore)\n",
    "ggplotly(p)"
   ]
  },
  {
   "cell_type": "markdown",
   "metadata": {},
   "source": [
    "The legend is clickable by default,\n",
    "which is really nice!\n",
    "Double click to select only one.\n",
    "\n",
    "Any styling we create in ggplot carries over to plotly."
   ]
  },
  {
   "cell_type": "code",
   "execution_count": null,
   "metadata": {
    "Collapsed": "false"
   },
   "outputs": [],
   "source": [
    "p <- p +\n",
    "    theme_classic() +\n",
    "    ggthemes::scale_color_tableau()\n",
    "ggplotly(p)"
   ]
  },
  {
   "cell_type": "markdown",
   "metadata": {},
   "source": [
    "However, all the interactive functionality is from plotly.\n",
    "Here it would be nice with a tooltip to see which animal is which."
   ]
  },
  {
   "cell_type": "code",
   "execution_count": null,
   "metadata": {
    "Collapsed": "false"
   },
   "outputs": [],
   "source": [
    "ggplotly(p, tooltip = 'name')"
   ]
  },
  {
   "cell_type": "markdown",
   "metadata": {},
   "source": [
    "Why didn't this work?\n",
    "`ggplotly` does not see the underlying dataset,\n",
    "just the ggplot object,\n",
    "so we must make sure that everything we want to use is bound somewhere by ggplot.\n",
    "We can set it to the text aesthetic which wil not show up by default inside the scatter plot,\n",
    "but can be reached from `ggplotly` since it is now part of the ggplot specification."
   ]
  },
  {
   "cell_type": "code",
   "execution_count": null,
   "metadata": {
    "Collapsed": "false"
   },
   "outputs": [],
   "source": [
    "ggplotly(p + aes(text = name), tooltip = 'name')"
   ]
  },
  {
   "cell_type": "markdown",
   "metadata": {},
   "source": [
    "This is a good example of where a tooltip is really useful,\n",
    "because we might be interested in which particular animal is at a certain place in this plot,\n",
    "and there is no good way of doing that with static text or colors\n",
    "without making the plot really busy.\n",
    "\n",
    "We could also have referenced the aes binding we used,\n",
    "instead of the column name."
   ]
  },
  {
   "cell_type": "code",
   "execution_count": null,
   "metadata": {
    "Collapsed": "false"
   },
   "outputs": [],
   "source": [
    "ggplotly(p + aes(text = name), tooltip = 'text')"
   ]
  },
  {
   "cell_type": "markdown",
   "metadata": {},
   "source": [
    "## ggplotly + dash\n",
    "\n",
    "To get these functions into dash,\n",
    "we need to include both the ggplot part \n",
    "and the ggplotly part.\n",
    "\n",
    "Since the `ggplotly` converts the plot into a nativ epotlfy obejct,\n",
    "we don't have to use an iframe, \n",
    "but can instead use Dash's core component `dccGraph` for displaying the plot."
   ]
  },
  {
   "attachments": {},
   "cell_type": "markdown",
   "metadata": {},
   "source": [
    "```r\n",
    "library(dash)\n",
    "library(dashCoreComponents)\n",
    "library(ggplot2)\n",
    "library(plotly)\n",
    "\n",
    "app <- Dash$new()\n",
    "\n",
    "p <- ggplot(msleep) +\n",
    "    aes(x = bodywt,\n",
    "        y = sleep_total) +\n",
    "    geom_point() +\n",
    "    scale_x_log10()\n",
    " \n",
    "app$layout(dccGraph(figure=ggplotly(p)))\n",
    "    \n",
    "app$run_server(debug = T)\n",
    "```\n",
    "\n",
    "![](images/5/5.07.png)"
   ]
  },
  {
   "attachments": {},
   "cell_type": "markdown",
   "metadata": {},
   "source": [
    "As with Altair,\n",
    "we ideally would define our plotting function under the layout,\n",
    "so that it can be setup with the callback directly.\n",
    "Let's\n",
    "create a more complex app that includes a dropdown controlling what is plotted via a callback.\n",
    "We will also add bootstrap and the other best practices we have discussed previously.\n",
    "\n",
    "\n",
    "```r\n",
    "library(dash)\n",
    "library(dashCoreComponents)\n",
    "library(dashHtmlComponents)\n",
    "library(dashBootstrapComponents)\n",
    "library(ggplot2)\n",
    "library(plotly)\n",
    "\n",
    "app <- Dash$new(external_stylesheets = dbcThemes$BOOTSTRAP)\n",
    "\n",
    "app$layout(\n",
    "    dbcContainer(\n",
    "        list(\n",
    "            dccGraph(id='plot-area'),\n",
    "            dccDropdown(\n",
    "                id='col-select',\n",
    "                options = msleep %>%\n",
    "                    colnames %>%\n",
    "                    purrr::map(function(col) list(label = col, value = col)), \n",
    "                value='bodywt')\n",
    "        )\n",
    "    )\n",
    ")\n",
    "\n",
    "app$callback(\n",
    "    output('plot-area', 'figure'),\n",
    "    list(input('col-select', 'value')),\n",
    "    function(xcol) {\n",
    "        p <- ggplot(msleep) +\n",
    "            aes(x = !!sym(xcol),\n",
    "                y = sleep_total,\n",
    "                color = vore,\n",
    "                text = name) +\n",
    "            geom_point() +\n",
    "            scale_x_log10() +\n",
    "            ggthemes::scale_color_tableau()\n",
    "        ggplotly(p)\n",
    "    }\n",
    ")\n",
    "\n",
    "app$run_server(debug = T)\n",
    "```\n",
    "\n",
    "![](images/5/5.08.png)\n",
    "\n",
    "We're using `purrr::map` as the equivalent of the list expression in Python,\n",
    "but the logic here is that we are mapping a function to each one of the columns\n",
    "and returning a named list where the column name is both the `label` and `value`.\n",
    "If we wanted to seleted e.g. only numeric columns instead,\n",
    "we could do `msleep %>% select_if(is.numeric) %>% colnames`.\n",
    "Since explicit return statements are not needed for functions in R,\n",
    "the `ggplotly(p)` line is what will be returned and put into the `figure` property of `plot-area`.\n",
    "\n",
    "The `!!sym()` part might look rather cryptic at first.\n",
    "It is needed to pass a string as a column name to ggplot.\n",
    "Remember that out dropdown returns a string value, e.g. `'bodywt'`,\n",
    "but in ggplot we want pass column names unquoted, like so `bodywt`,\n",
    "This is the conversation that happens when we do `!!sym('bodywt')`\n",
    "and it makes ggplot understand that we are referring to a column in the dataframe with this name."
   ]
  },
  {
   "attachments": {},
   "cell_type": "markdown",
   "metadata": {},
   "source": [
    "## Multiple subplots\n",
    "\n",
    "Faceting can be done through ggplot via e.g. `facet_wrap(~vore)`.\n",
    "The plots are linked with zooming, panning, etc.\n",
    "\n",
    "![](images/5/5.09.png)\n",
    "\n",
    "If we want to combine any plots into subplots,\n",
    "we had to use `cowplot` before.\n",
    "Here we will use the plotly subplot function directly on the plotly objects instead."
   ]
  },
  {
   "cell_type": "code",
   "execution_count": null,
   "metadata": {},
   "outputs": [],
   "source": [
    "p1 <- ggplot(msleep) +\n",
    "    aes(x = bodywt,\n",
    "        y = sleep_total,\n",
    "        color = vore,) +\n",
    "    geom_point() +\n",
    "    scale_x_log10() +\n",
    "    ggthemes::scale_color_tableau()\n",
    "\n",
    "p2 <- ggplot(msleep) +\n",
    "    aes(x=vore) +\n",
    "    geom_bar(stat='count')\n",
    "\n",
    "subplot(ggplotly(p1), ggplotly(p2))"
   ]
  },
  {
   "cell_type": "code",
   "execution_count": null,
   "metadata": {},
   "outputs": [],
   "source": [
    "subplot(ggplotly(p1), ggplotly(p2), nrows = 2)"
   ]
  },
  {
   "cell_type": "markdown",
   "metadata": {},
   "source": [
    "We can use layout to change the default interaction."
   ]
  },
  {
   "cell_type": "code",
   "execution_count": null,
   "metadata": {},
   "outputs": [],
   "source": [
    "subplot(ggplotly(p1), ggplotly(p2), nrows = 2) %>% layout(dragmode = 'select')"
   ]
  },
  {
   "attachments": {},
   "cell_type": "markdown",
   "metadata": {},
   "source": [
    "## Emitted signals\n",
    "\n",
    "By default, plotly plots emit signals upon selection and hover,\n",
    "that can work as input to other callbacks.\n",
    "This is what we will use next lecture to link plots together,\n",
    "but for now we will just briefly see how it works.\n",
    "Since these events are server side,\n",
    "you will be able to link plots together that weren't necessarily created together.\n",
    "\n",
    "```r\n",
    "library(dash)\n",
    "library(dashCoreComponents)\n",
    "library(dashHtmlComponents)\n",
    "library(dashBootstrapComponents)\n",
    "library(ggplot2)\n",
    "library(plotly)\n",
    "\n",
    "app <- Dash$new(external_stylesheets = dbcThemes$BOOTSTRAP)\n",
    "\n",
    "app$layout(\n",
    "    dbcContainer(\n",
    "        list(\n",
    "            dccGraph(id='plot-area'),\n",
    "            htmlDiv(id='output-area'),\n",
    "            htmlBr(),\n",
    "            dccDropdown(\n",
    "                id='col-select',\n",
    "                options = msleep %>%\n",
    "                    colnames %>%\n",
    "                    purrr::map(function(col) list(label = col, value = col)), \n",
    "                value='bodywt')\n",
    "        )\n",
    "    )\n",
    ")\n",
    "\n",
    "app$callback(\n",
    "    output('plot-area', 'figure'),\n",
    "    list(input('col-select', 'value')),\n",
    "    function(xcol) {\n",
    "        p <- ggplot(msleep) +\n",
    "            aes(x = !!sym(xcol),\n",
    "                y = sleep_total,\n",
    "                color = vore,\n",
    "                text = name) +\n",
    "            geom_point() +\n",
    "            scale_x_log10() +\n",
    "            ggthemes::scale_color_tableau()\n",
    "        ggplotly(p) %>% layout(dragmode = 'select')\n",
    "    }\n",
    ")\n",
    "\n",
    "app$callback(\n",
    "    output('output-area', 'children'),\n",
    "    list(input('plot-area', 'selectedData')),\n",
    "    function(selected_data) {\n",
    "        toString(selected_data)\n",
    "    }\n",
    ")\n",
    "\n",
    "app$run_server(debug = T)\n",
    "```\n",
    "\n",
    "![](images/5/5.10.png)\n",
    "\n",
    "We can also look at multiple events at the same time.\n",
    "\n",
    "```r\n",
    "library(dash)\n",
    "library(dashCoreComponents)\n",
    "library(dashHtmlComponents)\n",
    "library(dashBootstrapComponents)\n",
    "library(ggplot2)\n",
    "library(plotly)\n",
    "\n",
    "app <- Dash$new(external_stylesheets = dbcThemes$BOOTSTRAP)\n",
    "\n",
    "app$layout(\n",
    "    dbcContainer(\n",
    "        list(\n",
    "            dccGraph(id='plot-area'),\n",
    "            htmlDiv(id='output-area'),\n",
    "            htmlBr(),\n",
    "            htmlDiv(id='output-area2'),\n",
    "            htmlBr(),\n",
    "            dccDropdown(\n",
    "                id='col-select',\n",
    "                options = msleep %>% colnames %>% purrr::map(function(col) list(label = col, value = col)),\n",
    "                value='bodywt')\n",
    "        )\n",
    "    )\n",
    ")\n",
    "\n",
    "app$callback(\n",
    "    output('plot-area', 'figure'),\n",
    "    list(input('col-select', 'value')),\n",
    "    function(xcol) {\n",
    "        p <- ggplot(msleep) +\n",
    "            aes(x = !!sym(xcol),\n",
    "                y = sleep_total,\n",
    "                color = vore,\n",
    "                text = name) +\n",
    "            geom_point() +\n",
    "            scale_x_log10() +\n",
    "            ggthemes::scale_color_tableau()\n",
    "        ggplotly(p) %>% layout(dragmode = 'select')\n",
    "    }\n",
    ")\n",
    "\n",
    "app$callback(\n",
    "    list(output('output-area', 'children'),\n",
    "         output('output-area2', 'children')),\n",
    "    list(input('plot-area', 'selectedData'),\n",
    "         input('plot-area', 'hoverData')),\n",
    "    function(selected_data, hover_data) {\n",
    "        list(toString(selected_data), toString(hover_data))\n",
    "    }\n",
    ")\n",
    "\n",
    "app$run_server(debug = T)\n",
    "```\n",
    "\n",
    "![](images/5/5.11.png)"
   ]
  },
  {
   "cell_type": "markdown",
   "metadata": {},
   "source": [
    "## Attribution\n",
    "\n",
    "These lecture notes were prepared by Dr. Joel Ostblom, a post-doctoral teaching fellow in the UBC Vancouver MDS program."
   ]
  }
 ],
 "metadata": {
  "kernelspec": {
   "display_name": "R",
   "language": "R",
   "name": "ir"
  },
  "language_info": {
   "codemirror_mode": "r",
   "file_extension": ".r",
   "mimetype": "text/x-r-source",
   "name": "R",
   "pygments_lexer": "r",
   "version": "4.0.3"
  }
 },
 "nbformat": 4,
 "nbformat_minor": 4
}
